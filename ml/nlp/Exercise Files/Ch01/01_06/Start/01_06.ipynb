{
 "cells": [
  {
   "cell_type": "markdown",
   "metadata": {},
   "source": [
    "# NLP Basics: Learning how to use regular expressions"
   ]
  },
  {
   "cell_type": "markdown",
   "metadata": {},
   "source": [
    "### Using regular expressions in Python\n",
    "\n",
    "Python's `re` package is the most commonly used regex resource. More details can be found [here](https://docs.python.org/3/library/re.html)."
   ]
  },
  {
   "cell_type": "code",
   "execution_count": 1,
   "metadata": {
    "collapsed": true,
    "pycharm": {
     "is_executing": false
    }
   },
   "outputs": [],
   "source": [
    "import re\n",
    "\n",
    "re_test = 'This is a made up string to test 2 different regex methods'\n",
    "re_test_messy = 'This      is a made up     string to test 2    different regex methods'\n",
    "re_test_messy1 = 'This-is-a-made/up.string*to>>>>test----2\"\"\"\"\"\"different~regex-methods'\n"
   ]
  },
  {
   "cell_type": "markdown",
   "metadata": {},
   "source": [
    "### Splitting a sentence into a list of words"
   ]
  },
  {
   "cell_type": "code",
   "execution_count": 11,
   "metadata": {
    "pycharm": {
     "is_executing": false
    }
   },
   "outputs": [
    {
     "data": {
      "text/plain": "['This',\n 'is',\n 'a',\n 'made',\n 'up',\n 'string',\n 'to',\n 'test',\n '2',\n 'different',\n 'regex',\n 'methods']"
     },
     "metadata": {},
     "output_type": "execute_result",
     "execution_count": 11
    }
   ],
   "source": [
    "re.split('\\s', re_test)\n",
    "re.split('\\s', re_test_messy)\n",
    "re.split('\\s+', re_test_messy)\n",
    "# The \\W will search for \"now words characters\"\n",
    "re.split('\\W+', re_test_messy1)\n",
    "\n",
    "# The \\S will search for \"one ore more none-whitespace characters\"\n",
    "re.findall('\\S+', re_test)\n",
    "re.findall('\\S+', re_test_messy)\n",
    "re.findall('\\S+', re_test_messy1)\n",
    "# The \\w search for \"one or more word characters\" \n",
    "re.findall('\\w+', re_test_messy1)\n",
    "\n"
   ]
  },
  {
   "cell_type": "markdown",
   "metadata": {},
   "source": [
    "### Replacing a specific string"
   ]
  },
  {
   "cell_type": "code",
   "execution_count": 18,
   "metadata": {
    "collapsed": true,
    "pycharm": {
     "is_executing": false
    }
   },
   "outputs": [],
   "source": [
    "pep8_test = 'I try to follow PEP8 guidelines'\n",
    "pep7_test = 'I try to follow PEP7 guidelines'\n",
    "peep8_test = 'I try to follow PEEP8 guidelines'\n"
   ]
  },
  {
   "cell_type": "code",
   "execution_count": 26,
   "metadata": {
    "pycharm": {
     "is_executing": false
    }
   },
   "outputs": [
    {
     "data": {
      "text/plain": "'I try to follow PEP8 Python Styleguide guidelines'"
     },
     "metadata": {},
     "output_type": "execute_result",
     "execution_count": 26
    }
   ],
   "source": [
    "re.findall('[a-z]+', pep8_test)\n",
    "re.findall('[A-Z]+', pep8_test)\n",
    "re.findall('[A-Z]+[0-9]+', pep8_test)\n",
    "re.findall('[A-Z]+[0-9]+', pep7_test)\n",
    "re.findall('[A-Z]+[0-9]+', peep8_test)\n",
    "\n",
    "re.sub('[A-Z]+[0-9]+','PEP8 Python Styleguide', pep8_test)\n",
    "re.sub('[A-Z]+[0-9]+','PEP8 Python Styleguide', pep7_test)\n",
    "re.sub('[A-Z]+[0-9]+','PEP8 Python Styleguide', peep8_test)\n",
    "\n"
   ]
  },
  {
   "cell_type": "markdown",
   "metadata": {
    "collapsed": true
   },
   "source": [
    "### Other examples of regex methods\n",
    "\n",
    "- re.search()\n",
    "- re.match()\n",
    "- re.fullmatch()\n",
    "- re.finditer()\n",
    "- re.escape()"
   ]
  }
 ],
 "metadata": {
  "kernelspec": {
   "display_name": "Python 3",
   "language": "python",
   "name": "python3"
  },
  "language_info": {
   "codemirror_mode": {
    "name": "ipython",
    "version": 3
   },
   "file_extension": ".py",
   "mimetype": "text/x-python",
   "name": "python",
   "nbconvert_exporter": "python",
   "pygments_lexer": "ipython3",
   "version": "3.5.3"
  },
  "pycharm": {
   "stem_cell": {
    "cell_type": "raw",
    "source": [],
    "metadata": {
     "collapsed": false
    }
   }
  }
 },
 "nbformat": 4,
 "nbformat_minor": 2
}